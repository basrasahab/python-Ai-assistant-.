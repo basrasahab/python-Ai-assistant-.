{
  "nbformat": 4,
  "nbformat_minor": 0,
  "metadata": {
    "colab": {
      "provenance": [],
      "gpuType": "T4"
    },
    "kernelspec": {
      "name": "python3",
      "display_name": "Python 3"
    },
    "language_info": {
      "name": "python"
    },
    "accelerator": "GPU"
  },
  "cells": [
    {
      "cell_type": "code",
      "metadata": {
        "id": "692c7cdf",
        "colab": {
          "base_uri": "https://localhost:8080/"
        },
        "outputId": "c26523df-655b-4011-819d-839819f9b793"
      },
      "source": [
        "%pip install duckduckgo-search -q"
      ],
      "execution_count": 2,
      "outputs": [
        {
          "output_type": "stream",
          "name": "stdout",
          "text": [
            "\u001b[?25l   \u001b[90m━━━━━━━━━━━━━━━━━━━━━━━━━━━━━━━━━━━━━━━━\u001b[0m \u001b[32m0.0/3.3 MB\u001b[0m \u001b[31m?\u001b[0m eta \u001b[36m-:--:--\u001b[0m\r\u001b[2K   \u001b[91m━━━━━━━━━━━━━━━━━━━━━━━━━━━━━━━━━━━━━━\u001b[0m\u001b[90m╺\u001b[0m\u001b[90m━\u001b[0m \u001b[32m3.1/3.3 MB\u001b[0m \u001b[31m99.8 MB/s\u001b[0m eta \u001b[36m0:00:01\u001b[0m\r\u001b[2K   \u001b[90m━━━━━━━━━━━━━━━━━━━━━━━━━━━━━━━━━━━━━━━━\u001b[0m \u001b[32m3.3/3.3 MB\u001b[0m \u001b[31m59.4 MB/s\u001b[0m eta \u001b[36m0:00:00\u001b[0m\n",
            "\u001b[?25h"
          ]
        }
      ]
    },
    {
      "cell_type": "code",
      "metadata": {
        "id": "532c02aa",
        "colab": {
          "base_uri": "https://localhost:8080/"
        },
        "outputId": "516b91b9-23dd-4313-ab6c-d3b50a1091df"
      },
      "source": [
        "%pip install wikipedia -q"
      ],
      "execution_count": 3,
      "outputs": [
        {
          "output_type": "stream",
          "name": "stdout",
          "text": [
            "  Preparing metadata (setup.py) ... \u001b[?25l\u001b[?25hdone\n",
            "  Building wheel for wikipedia (setup.py) ... \u001b[?25l\u001b[?25hdone\n"
          ]
        }
      ]
    },
    {
      "cell_type": "code",
      "source": [
        "# Install required libraries\n",
        "!pip install -q google-generativeai langchain-community langchain-openai langchain-anthropic pydantic gradio\n",
        "!pip install langchain-google-genai -q\n",
        "!pip install langchain-google-genai -q\n",
        "\n",
        "# Import necessary libraries\n",
        "from google.colab import userdata\n",
        "import google.generativeai as genai\n",
        "from langchain_community.tools import WikipediaQueryRun, DuckDuckGoSearchRun\n",
        "from langchain_community.utilities import WikipediaAPIWrapper\n",
        "from langchain.tools import Tool\n",
        "from datetime import datetime\n",
        "from pydantic import BaseModel\n",
        "from langchain_core.prompts import ChatPromptTemplate\n",
        "from langchain_core.output_parsers import PydanticOutputParser\n",
        "from langchain.agents import create_tool_calling_agent, AgentExecutor\n",
        "from langchain_google_genai import ChatGoogleGenerativeAI\n",
        "import gradio as gr\n",
        "\n",
        "# Retrieve the API key from Colab Secrets\n",
        "api_key = userdata.get('GOOGLE_API_KEY')\n",
        "genai.configure(api_key=api_key)\n",
        "\n",
        "# Define tools\n",
        "def save_to_txt(data: str, filename: str = \"research_output.txt\"):\n",
        "    timestamp = datetime.now().strftime(\"%Y-%m-%d %H:%M:%S\")\n",
        "    formatted_text = f\"--- Research Output ---\\nTimestamp: {timestamp}\\n\\n{data}\\n\\n\"\n",
        "    with open(filename, \"a\", encoding=\"utf-8\") as f:\n",
        "        f.write(formatted_text)\n",
        "    return f\"Data successfully saved to {filename}\"\n",
        "\n",
        "save_tool = Tool(\n",
        "    name=\"save_text_to_file\",\n",
        "    func=save_to_txt,\n",
        "    description=\"Saves structured research data to a text file.\",\n",
        ")\n",
        "\n",
        "search = DuckDuckGoSearchRun()\n",
        "search_tool = Tool(\n",
        "    name=\"search\",\n",
        "    func=search.run,\n",
        "    description=\"Search the web for information\",\n",
        ")\n",
        "\n",
        "api_wrapper = WikipediaAPIWrapper(top_k_results=1, doc_content_chars_max=100)\n",
        "wiki_tool = WikipediaQueryRun(api_wrapper=api_wrapper)\n",
        "\n",
        "# Define Pydantic model\n",
        "class ResearchResponse(BaseModel):\n",
        "    topic: str\n",
        "    summary: str\n",
        "    sources: list[str]\n",
        "    tools_used: list[str]\n",
        "\n",
        "# Initialize the Google Generative AI model\n",
        "llm = ChatGoogleGenerativeAI(model=\"gemini-1.5-flash\", google_api_key=api_key)\n",
        "\n",
        "# Set up parser and prompt\n",
        "parser = PydanticOutputParser(pydantic_object=ResearchResponse)\n",
        "\n",
        "prompt = ChatPromptTemplate.from_messages(\n",
        "    [\n",
        "        (\n",
        "            \"system\",\n",
        "            \"\"\"\n",
        "            You are a research assistant that will help generate a research paper.\n",
        "            Answer the user query and use necessary tools.\n",
        "            Wrap the output in this format and provide no other text\\n{format_instructions}\n",
        "            \"\"\",\n",
        "        ),\n",
        "        (\"placeholder\", \"{chat_history}\"),\n",
        "        (\"human\", \"{query}\"),\n",
        "        (\"placeholder\", \"{agent_scratchpad}\"),\n",
        "    ]\n",
        ").partial(format_instructions=parser.get_format_instructions())\n",
        "\n",
        "# Create agent and executor\n",
        "tools = [search_tool, wiki_tool, save_tool]\n",
        "agent = create_tool_calling_agent(\n",
        "    llm=llm,\n",
        "    prompt=prompt,\n",
        "    tools=tools\n",
        ")\n",
        "\n",
        "agent_executor = AgentExecutor(agent=agent, tools=tools, verbose=True)\n",
        "\n",
        "# Define Gradio interface function\n",
        "def research_agent(query):\n",
        "    raw_response = agent_executor.invoke({\"query\": query})\n",
        "    try:\n",
        "        structured_response = parser.parse(raw_response.get(\"output\")[0][\"text\"])\n",
        "        return f\"Topic: {structured_response.topic}\\nSummary: {structured_response.summary}\\nSources: {', '.join(structured_response.sources)}\\nTools Used: {', '.join(structured_response.tools_used)}\"\n",
        "    except Exception as e:\n",
        "        return f\"Error parsing response: {str(e)}\\nRaw Response: {raw_response}\"\n",
        "\n",
        "# Launch Gradio interface\n",
        "interface = gr.Interface(\n",
        "    fn=research_agent,\n",
        "    inputs=\"text\",\n",
        "    outputs=\"text\",\n",
        "    title=\"Research Assistant\",\n",
        "    description=\"Enter a research topic to get a summary and save it to a file.\",\n",
        "    theme=\"default\"\n",
        ")\n",
        "\n",
        "interface.launch(share=True)"
      ],
      "metadata": {
        "colab": {
          "base_uri": "https://localhost:8080/",
          "height": 698
        },
        "id": "VwlYKtPGL6X8",
        "outputId": "6343ee76-2f98-4ce1-f281-521414c77270"
      },
      "execution_count": 4,
      "outputs": [
        {
          "output_type": "stream",
          "name": "stdout",
          "text": [
            "\u001b[?25l   \u001b[90m━━━━━━━━━━━━━━━━━━━━━━━━━━━━━━━━━━━━━━━━\u001b[0m \u001b[32m0.0/1.3 MB\u001b[0m \u001b[31m?\u001b[0m eta \u001b[36m-:--:--\u001b[0m\r\u001b[2K   \u001b[90m━━━━━━━━━━━━━━━━━━━━━━━━━━━━━━━━━━━━━━━━\u001b[0m \u001b[32m1.3/1.3 MB\u001b[0m \u001b[31m45.7 MB/s\u001b[0m eta \u001b[36m0:00:00\u001b[0m\n",
            "\u001b[?25h\u001b[31mERROR: pip's dependency resolver does not currently take into account all the packages that are installed. This behaviour is the source of the following dependency conflicts.\n",
            "langchain-google-genai 2.1.9 requires google-ai-generativelanguage<0.7.0,>=0.6.18, but you have google-ai-generativelanguage 0.6.15 which is incompatible.\u001b[0m\u001b[31m\n",
            "\u001b[0m\u001b[31mERROR: pip's dependency resolver does not currently take into account all the packages that are installed. This behaviour is the source of the following dependency conflicts.\n",
            "google-generativeai 0.8.5 requires google-ai-generativelanguage==0.6.15, but you have google-ai-generativelanguage 0.6.18 which is incompatible.\u001b[0m\u001b[31m\n",
            "\u001b[0mColab notebook detected. To show errors in colab notebook, set debug=True in launch()\n",
            "* Running on public URL: https://a1a5e61a14f4e71a54.gradio.live\n",
            "\n",
            "This share link expires in 1 week. For free permanent hosting and GPU upgrades, run `gradio deploy` from the terminal in the working directory to deploy to Hugging Face Spaces (https://huggingface.co/spaces)\n"
          ]
        },
        {
          "output_type": "display_data",
          "data": {
            "text/plain": [
              "<IPython.core.display.HTML object>"
            ],
            "text/html": [
              "<div><iframe src=\"https://a1a5e61a14f4e71a54.gradio.live\" width=\"100%\" height=\"500\" allow=\"autoplay; camera; microphone; clipboard-read; clipboard-write;\" frameborder=\"0\" allowfullscreen></iframe></div>"
            ]
          },
          "metadata": {}
        },
        {
          "output_type": "execute_result",
          "data": {
            "text/plain": []
          },
          "metadata": {},
          "execution_count": 4
        }
      ]
    },
    {
      "cell_type": "code",
      "source": [
        "# Install required libraries\n",
        "!pip install -q google-generativeai langchain-community langchain-openai langchain-anthropic pydantic gradio\n",
        "!pip install langchain-google-genai -q\n",
        "!pip install langchain-google-genai -q\n",
        "\n",
        "# Import necessary libraries\n",
        "from google.colab import userdata\n",
        "import google.generativeai as genai\n",
        "from langchain_community.tools import WikipediaQueryRun, DuckDuckGoSearchRun\n",
        "from langchain_community.utilities import WikipediaAPIWrapper\n",
        "from langchain.tools import Tool\n",
        "from datetime import datetime\n",
        "from pydantic import BaseModel\n",
        "from langchain_core.prompts import ChatPromptTemplate\n",
        "from langchain_core.output_parsers import PydanticOutputParser\n",
        "from langchain.agents import create_tool_calling_agent, AgentExecutor\n",
        "from langchain_google_genai import ChatGoogleGenerativeAI\n",
        "import gradio as gr\n",
        "\n",
        "# Retrieve the API key from Colab Secrets\n",
        "api_key = userdata.get('GOOGLE_API_KEY')\n",
        "genai.configure(api_key=api_key)\n",
        "\n",
        "# Define tools\n",
        "def save_to_txt(data: str, filename: str = \"research_output.txt\"):\n",
        "    timestamp = datetime.now().strftime(\"%Y-%m-%d %H:%M:%S\")\n",
        "    formatted_text = f\"--- Research Output ---\\nTimestamp: {timestamp}\\n\\n{data}\\n\\n\"\n",
        "    with open(filename, \"a\", encoding=\"utf-8\") as f:\n",
        "        f.write(formatted_text)\n",
        "    return f\"Data successfully saved to {filename}\"\n",
        "\n",
        "save_tool = Tool(\n",
        "    name=\"save_text_to_file\",\n",
        "    func=save_to_txt,\n",
        "    description=\"Saves structured research data to a text file.\",\n",
        ")\n",
        "\n",
        "search = DuckDuckGoSearchRun()\n",
        "search_tool = Tool(\n",
        "    name=\"search\",\n",
        "    func=search.run,\n",
        "    description=\"Search the web for information\",\n",
        ")\n",
        "\n",
        "api_wrapper = WikipediaAPIWrapper(top_k_results=1, doc_content_chars_max=100)\n",
        "wiki_tool = WikipediaQueryRun(api_wrapper=api_wrapper)\n",
        "\n",
        "# Define Pydantic model\n",
        "class ResearchResponse(BaseModel):\n",
        "    topic: str\n",
        "    summary: str\n",
        "    sources: list[str]\n",
        "    tools_used: list[str]\n",
        "\n",
        "# Initialize the Google Generative AI model\n",
        "llm = ChatGoogleGenerativeAI(model=\"gemini-1.5-flash\", google_api_key=api_key)\n",
        "\n",
        "# Set up parser and prompt\n",
        "parser = PydanticOutputParser(pydantic_object=ResearchResponse)\n",
        "\n",
        "prompt = ChatPromptTemplate.from_messages(\n",
        "    [\n",
        "        (\n",
        "            \"system\",\n",
        "            \"\"\"\n",
        "            You are a research assistant that will help generate a research paper.\n",
        "            Answer the user query and use necessary tools.\n",
        "            Wrap the output in this format and provide no other text\\n{format_instructions}\n",
        "            \"\"\",\n",
        "        ),\n",
        "        (\"placeholder\", \"{chat_history}\"),\n",
        "        (\"human\", \"{query}\"),\n",
        "        (\"placeholder\", \"{agent_scratchpad}\"),\n",
        "    ]\n",
        ").partial(format_instructions=parser.get_format_instructions())\n",
        "\n",
        "# Create agent and executor\n",
        "tools = [search_tool, wiki_tool, save_tool]\n",
        "agent = create_tool_calling_agent(\n",
        "    llm=llm,\n",
        "    prompt=prompt,\n",
        "    tools=tools\n",
        ")\n",
        "\n",
        "agent_executor = AgentExecutor(agent=agent, tools=tools, verbose=True)\n",
        "\n",
        "# Define Gradio interface function\n",
        "def research_agent(query):\n",
        "    raw_response = agent_executor.invoke({\"query\": query})\n",
        "    try:\n",
        "        structured_response = parser.parse(raw_response.get(\"output\")[0][\"text\"])\n",
        "        return f\"Topic: {structured_response.topic}\\nSummary: {structured_response.summary}\\nSources: {', '.join(structured_response.sources)}\\nTools Used: {', '.join(structured_response.tools_used)}\"\n",
        "    except Exception as e:\n",
        "        return f\"Error parsing response: {str(e)}\\nRaw Response: {raw_response}\"\n",
        "\n",
        "# Custom CSS with Goku background\n",
        "custom_css = \"\"\"\n",
        "body {\n",
        "    background-image: url('https://example.com/goku_background.jpg'); /* Replace with actual URL or local path */\n",
        "    background-size: cover;\n",
        "    background-position: center;\n",
        "    background-repeat: no-repeat;\n",
        "    color: white; /* Ensure text is readable */\n",
        "}\n",
        ".gr-box { background-color: rgba(0, 0, 0, 0.7); } /* Semi-transparent background for input/output boxes */\n",
        ".gr-button { color: white; } /* Ensure button text is readable */\n",
        "\"\"\"\n",
        "\n",
        "# Launch Gradio interface with custom CSS\n",
        "interface = gr.Interface(\n",
        "    fn=research_agent,\n",
        "    inputs=\"text\",\n",
        "    outputs=\"text\",\n",
        "    title=\"Research Assistant\",\n",
        "    description=\"Enter a research topic to get a summary and save it to a file.\",\n",
        "    theme=\"default\",\n",
        "    css=custom_css\n",
        ")\n",
        "\n",
        "interface.launch(share=True)"
      ],
      "metadata": {
        "colab": {
          "base_uri": "https://localhost:8080/",
          "height": 680
        },
        "id": "wZf0gVOdOOyN",
        "outputId": "89608edd-6721-4eb9-8c69-23811f05724d"
      },
      "execution_count": null,
      "outputs": [
        {
          "output_type": "stream",
          "name": "stdout",
          "text": [
            "\u001b[31mERROR: pip's dependency resolver does not currently take into account all the packages that are installed. This behaviour is the source of the following dependency conflicts.\n",
            "langchain-google-genai 2.1.9 requires google-ai-generativelanguage<0.7.0,>=0.6.18, but you have google-ai-generativelanguage 0.6.15 which is incompatible.\u001b[0m\u001b[31m\n",
            "\u001b[0m\u001b[31mERROR: pip's dependency resolver does not currently take into account all the packages that are installed. This behaviour is the source of the following dependency conflicts.\n",
            "google-generativeai 0.8.5 requires google-ai-generativelanguage==0.6.15, but you have google-ai-generativelanguage 0.6.18 which is incompatible.\u001b[0m\u001b[31m\n",
            "\u001b[0mColab notebook detected. To show errors in colab notebook, set debug=True in launch()\n",
            "* Running on public URL: https://5680be1303245ac6d2.gradio.live\n",
            "\n",
            "This share link expires in 1 week. For free permanent hosting and GPU upgrades, run `gradio deploy` from the terminal in the working directory to deploy to Hugging Face Spaces (https://huggingface.co/spaces)\n"
          ]
        },
        {
          "output_type": "display_data",
          "data": {
            "text/plain": [
              "<IPython.core.display.HTML object>"
            ],
            "text/html": [
              "<div><iframe src=\"https://5680be1303245ac6d2.gradio.live\" width=\"100%\" height=\"500\" allow=\"autoplay; camera; microphone; clipboard-read; clipboard-write;\" frameborder=\"0\" allowfullscreen></iframe></div>"
            ]
          },
          "metadata": {}
        },
        {
          "output_type": "execute_result",
          "data": {
            "text/plain": []
          },
          "metadata": {},
          "execution_count": 13
        }
      ]
    },
    {
      "cell_type": "code",
      "source": [],
      "metadata": {
        "id": "FkibXpMEOPZ9"
      },
      "execution_count": null,
      "outputs": []
    }
  ]
}